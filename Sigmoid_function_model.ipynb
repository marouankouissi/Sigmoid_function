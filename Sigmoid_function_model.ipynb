{
 "cells": [
  {
   "cell_type": "markdown",
   "metadata": {},
   "source": [
    "<h1><center>The use of Sigmoid function to model dataset</center></h1>\n",
    "In this lab, we are going to fit a non-linear model to the datapoints corrensponding to China's GDP from 1960 to 2014.\n",
    "<br/> Sigmoid function (Logistic function) will be used.\n"
   ]
  },
  {
   "cell_type": "markdown",
   "metadata": {},
   "source": [
    "<h2 id=\"importing_libraries\">Importing required libraries</h2>"
   ]
  },
  {
   "cell_type": "code",
   "execution_count": 1,
   "metadata": {},
   "outputs": [],
   "source": [
    "import numpy as np\n",
    "import pandas as pd\n",
    "import matplotlib.pyplot as plt\n",
    "%matplotlib inline"
   ]
  },
  {
   "cell_type": "markdown",
   "metadata": {},
   "source": [
    "<h2 id=\"downloading dataset\">Downloading Dataset</h2> \n",
    "We are going to download a dataset with two columns, the first, a year between 1960 and 2014, the second, China's corresponding annual gross domestic income in US dollars for that year. The dataset is available on IBM Cloud Object Storage. <br/> We use \"urllib.request\" to download the dataset directly. A very handy module !"
   ]
  },
  {
   "cell_type": "code",
   "execution_count": 2,
   "metadata": {},
   "outputs": [
    {
     "data": {
      "text/plain": [
       "('china_gdp.csv', <http.client.HTTPMessage at 0x122488d10>)"
      ]
     },
     "execution_count": 2,
     "metadata": {},
     "output_type": "execute_result"
    }
   ],
   "source": [
    "import urllib.request\n",
    "url = 'https://s3-api.us-geo.objectstorage.softlayer.net/cf-courses-data/CognitiveClass/ML0101ENv3/labs/china_gdp.csv'\n",
    "filename = 'china_gdp.csv'\n",
    "urllib.request.urlretrieve(url, filename)"
   ]
  },
  {
   "cell_type": "code",
   "execution_count": 3,
   "metadata": {},
   "outputs": [
    {
     "data": {
      "text/html": [
       "<div>\n",
       "<style scoped>\n",
       "    .dataframe tbody tr th:only-of-type {\n",
       "        vertical-align: middle;\n",
       "    }\n",
       "\n",
       "    .dataframe tbody tr th {\n",
       "        vertical-align: top;\n",
       "    }\n",
       "\n",
       "    .dataframe thead th {\n",
       "        text-align: right;\n",
       "    }\n",
       "</style>\n",
       "<table border=\"1\" class=\"dataframe\">\n",
       "  <thead>\n",
       "    <tr style=\"text-align: right;\">\n",
       "      <th></th>\n",
       "      <th>Year</th>\n",
       "      <th>Value</th>\n",
       "    </tr>\n",
       "  </thead>\n",
       "  <tbody>\n",
       "    <tr>\n",
       "      <td>0</td>\n",
       "      <td>1960</td>\n",
       "      <td>5.918412e+10</td>\n",
       "    </tr>\n",
       "    <tr>\n",
       "      <td>1</td>\n",
       "      <td>1961</td>\n",
       "      <td>4.955705e+10</td>\n",
       "    </tr>\n",
       "    <tr>\n",
       "      <td>2</td>\n",
       "      <td>1962</td>\n",
       "      <td>4.668518e+10</td>\n",
       "    </tr>\n",
       "    <tr>\n",
       "      <td>3</td>\n",
       "      <td>1963</td>\n",
       "      <td>5.009730e+10</td>\n",
       "    </tr>\n",
       "    <tr>\n",
       "      <td>4</td>\n",
       "      <td>1964</td>\n",
       "      <td>5.906225e+10</td>\n",
       "    </tr>\n",
       "  </tbody>\n",
       "</table>\n",
       "</div>"
      ],
      "text/plain": [
       "   Year         Value\n",
       "0  1960  5.918412e+10\n",
       "1  1961  4.955705e+10\n",
       "2  1962  4.668518e+10\n",
       "3  1963  5.009730e+10\n",
       "4  1964  5.906225e+10"
      ]
     },
     "execution_count": 3,
     "metadata": {},
     "output_type": "execute_result"
    }
   ],
   "source": [
    "df = pd.read_csv(\"china_gdp.csv\")\n",
    "df.head()"
   ]
  },
  {
   "cell_type": "markdown",
   "metadata": {},
   "source": [
    "<h1 id=\"Plotting the data\"> Plotting the Data<\\h1>"
   ]
  },
  {
   "cell_type": "code",
   "execution_count": 4,
   "metadata": {},
   "outputs": [
    {
     "data": {
      "image/png": "[encoded data removed]",
      "text/plain": [
       "<Figure size 576x360 with 1 Axes>"
      ]
     },
     "metadata": {
      "needs_background": "light"
     },
     "output_type": "display_data"
    }
   ],
   "source": [
    "plt.figure(figsize=(8,5))\n",
    "plt.grid(True)\n",
    "plt.scatter(df.Year, df.Value)\n",
    "plt.xlabel(\"Year\")\n",
    "plt.ylabel(\"China's GDP (USD)\")\n",
    "plt.show()"
   ]
  },
  {
   "cell_type": "markdown",
   "metadata": {},
   "source": [
    "<h1 id=\"Choosing a model\">Choosing a Model<\\h1>"
   ]
  },
  {
   "cell_type": "markdown",
   "metadata": {},
   "source": [
    "As we can see, the plot has the property of starting with a slow growth, then increasing growth.\n",
    "We think that, by using Sigmoid funcntion having a S-shaped curve, we can acheive a good approximation."
   ]
  },
  {
   "cell_type": "markdown",
   "metadata": {},
   "source": [
    "The formula for sigmoid function is:\n",
    "\n",
    "$$ S = \\frac1{1+e^{-\\alpha(X-\\beta)}}$$\n",
    "\n",
    "$\\alpha$: Controls the curve's steepness,\n",
    "\n",
    "$\\beta$: Slides the curve on the x-axis."
   ]
  },
  {
   "cell_type": "markdown",
   "metadata": {},
   "source": [
    "<h1 id=\"Building the model\"> Building Model</h1>"
   ]
  },
  {
   "cell_type": "markdown",
   "metadata": {},
   "source": [
    "Here, we define our Sigmoid function, then we initialize its parameters."
   ]
  },
  {
   "cell_type": "code",
   "execution_count": 5,
   "metadata": {},
   "outputs": [],
   "source": [
    "def sigmoid(x, alpha, Beta):\n",
    "     y = 1 / (1 + np.exp(-alpha*(x-Beta)))\n",
    "     return y"
   ]
  },
  {
   "cell_type": "markdown",
   "metadata": {},
   "source": [
    "We initialize the function for $\\alpha = 1$ and $\\beta = 2000$."
   ]
  },
  {
   "cell_type": "code",
   "execution_count": 6,
   "metadata": {},
   "outputs": [
    {
     "data": {
      "image/png": "[encoded data removed]",
      "text/plain": [
       "<Figure size 576x360 with 1 Axes>"
      ]
     },
     "metadata": {
      "needs_background": "light"
     },
     "output_type": "display_data"
    }
   ],
   "source": [
    "alpha = 1.0\n",
    "beta = 2000.0\n",
    "\n",
    "x_data, y_data = (df[\"Year\"].values, df[\"Value\"].values)\n",
    "\n",
    "#Sigmoid function\n",
    "Y_pred = sigmoid(x_data, alpha , beta)\n",
    "\n",
    "#plot initial prediction against datapoints\n",
    "plt.figure(figsize=(8,5))\n",
    "plt.grid(True)\n",
    "plt.plot(x_data, Y_pred*15000000000000.)\n",
    "plt.plot(x_data, y_data, 'ro')\n",
    "plt.xlabel(\"Year\")\n",
    "plt.ylabel(\"China's GDP (USD)\")\n",
    "plt.show()"
   ]
  },
  {
   "cell_type": "markdown",
   "metadata": {},
   "source": [
    "Now, our purpose is to find the right parameters so that the sigmoid function fits our dataset as well as possible.</br>\n",
    "For that, we can use curve_fit, which applies the method of non-linear least squares to fit the data. In practice, curve_fit computes the optimal values of the parameters by minimizing sigmoid(x_data, alpha_opt, beta_opt)-y_data, where alpha_opt and beta_opt are our optimized parameters. "
   ]
  },
  {
   "cell_type": "markdown",
   "metadata": {},
   "source": [
    "Let's get the optimized parameters in our case. </br>\n",
    "First, we normalize the data."
   ]
  },
  {
   "cell_type": "code",
   "execution_count": 7,
   "metadata": {},
   "outputs": [],
   "source": [
    "x_data, y_data = (x_data/max(x_data), y_data/max(y_data))"
   ]
  },
  {
   "cell_type": "markdown",
   "metadata": {},
   "source": [
    "Then, we fit the datapoints."
   ]
  },
  {
   "cell_type": "code",
   "execution_count": 8,
   "metadata": {},
   "outputs": [
    {
     "name": "stdout",
     "output_type": "stream",
     "text": [
      " alpha_opt = 690.453018, beta_opt = 0.997207\n"
     ]
    }
   ],
   "source": [
    "from scipy.optimize import curve_fit\n",
    "p_opt, p_cov = curve_fit(sigmoid, x_data, y_data)\n",
    "\n",
    "#print the final parameters\n",
    "print(\" alpha_opt = %f, beta_opt = %f\" % (p_opt[0], p_opt[1]))"
   ]
  },
  {
   "cell_type": "markdown",
   "metadata": {},
   "source": [
    "Now we can plot our resulting model."
   ]
  },
  {
   "cell_type": "code",
   "execution_count": 9,
   "metadata": {},
   "outputs": [
    {
     "data": {
      "image/png": "[encoded data removed]",
      "text/plain": [
       "<Figure size 576x360 with 1 Axes>"
      ]
     },
     "metadata": {
      "needs_background": "light"
     },
     "output_type": "display_data"
    }
   ],
   "source": [
    "x = np.linspace(1960, 2014, 55)\n",
    "x = x/max(x)\n",
    "y = sigmoid(x, *p_opt)\n",
    "\n",
    "plt.figure(figsize=(8,5))\n",
    "plt.grid(True)\n",
    "plt.plot(x_data, y_data, 'ro', label='data')\n",
    "plt.plot(x,y, linewidth=3.0, label='fit')\n",
    "plt.legend(loc='best')\n",
    "plt.ylabel(\"GDP's China (USD), Normalized data\")\n",
    "plt.xlabel('Year')\n",
    "plt.show()"
   ]
  },
  {
   "cell_type": "markdown",
   "metadata": {},
   "source": [
    "As we can notine, the model fits pretty vell the datapoints. Some statistical measures can be used in order to evaluate the accuracy of the model like R-squared, Mean Squared Error (MSE)... "
   ]
  },
  {
   "cell_type": "markdown",
   "metadata": {},
   "source": [
    "This lab is inspired by Saeed Aghabozorgi's course on Learning machine.<\\br>\n",
    "Saeed Aghabozorgi is a Data Scientist in IBM"
   ]
  }
 ],
 "metadata": {
  "kernelspec": {
   "display_name": "Python 3",
   "language": "python",
   "name": "python3"
  },
  "language_info": {
   "codemirror_mode": {
    "name": "ipython",
    "version": 3
   },
   "file_extension": ".py",
   "mimetype": "text/x-python",
   "name": "python",
   "nbconvert_exporter": "python",
   "pygments_lexer": "ipython3",
   "version": "3.7.4"
  }
 },
 "nbformat": 4,
 "nbformat_minor": 4
}
